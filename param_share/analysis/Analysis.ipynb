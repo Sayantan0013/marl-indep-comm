{
 "cells": [
  {
   "cell_type": "code",
   "execution_count": 1,
   "metadata": {},
   "outputs": [],
   "source": [
    "import matplotlib.pyplot as plt\n",
    "from sklearn.decomposition import PCA\n",
    "from IPython.display import clear_output\n",
    "from ipywidgets import interact, IntSlider\n",
    "import ipywidgets as widgets\n",
    "import pickle\n",
    "import numpy as np\n",
    "import torch"
   ]
  },
  {
   "cell_type": "code",
   "execution_count": 74,
   "metadata": {},
   "outputs": [],
   "source": [
    "with open('dumps/dump_2024-10-11 16:09:22.148791-2-prey_captured.pkl','rb') as f:\n",
    "    dump = pickle.load(f)"
   ]
  },
  {
   "cell_type": "code",
   "execution_count": 75,
   "metadata": {},
   "outputs": [],
   "source": [
    "msg_array, obs_array, views, prey_pos, agent_pos = [],[],[],[],[]\n",
    "for d in dump:\n",
    "    obs, all_msg, view, p, a = d\n",
    "    msg_array.append(all_msg)\n",
    "    obs_array.append(obs)\n",
    "    views.append(view)\n",
    "    prey_pos.append(p)\n",
    "    agent_pos.append(a)"
   ]
  },
  {
   "cell_type": "code",
   "execution_count": 76,
   "metadata": {},
   "outputs": [],
   "source": [
    "msg = torch.cat(msg_array,axis=0).detach().cpu()\n",
    "obs_array = np.array(obs_array)\n",
    "views = np.array(views)\n",
    "prey_pos = np.array(prey_pos)\n",
    "agent_pos = np.array(agent_pos)"
   ]
  },
  {
   "cell_type": "code",
   "execution_count": 77,
   "metadata": {},
   "outputs": [
    {
     "data": {
      "application/vnd.jupyter.widget-view+json": {
       "model_id": "428111bef86a40f8a8c64c8148a55d27",
       "version_major": 2,
       "version_minor": 0
      },
      "text/plain": [
       "interactive(children=(IntSlider(value=0, description='index', max=40), Output()), _dom_classes=('widget-intera…"
      ]
     },
     "metadata": {},
     "output_type": "display_data"
    }
   ],
   "source": [
    "import numpy as np\n",
    "import matplotlib.pyplot as plt\n",
    "from ipywidgets import interact, IntSlider\n",
    "import ipywidgets as widgets\n",
    "\n",
    "# Function to plot a specific 2D array\n",
    "def plot_array(index):\n",
    "    plt.figure(figsize=(10,7))\n",
    "    plt.subplot(2,2,1)\n",
    "    plt.imshow(views[index], cmap='viridis', interpolation='none')\n",
    "\n",
    "    plt.subplot(2,2,2)\n",
    "    pca = PCA(n_components=2)\n",
    "    \n",
    "    pca.fit_transform(msg.reshape(-1,36))\n",
    "\n",
    "    plt.xlim(-0.1,0.1)\n",
    "    plt.ylim(-0.1,0.1)\n",
    "\n",
    "    # Specify interest region\n",
    "    start_time = index\n",
    "    end_time = index+1\n",
    "    \n",
    "    agent_0_comm = pca.transform(msg[:,0])\n",
    "    agent_1_comm = pca.transform(msg[:,1])\n",
    "    agent_2_comm = pca.transform(msg[:,2])\n",
    "    agent_3_comm = pca.transform(msg[:,3])\n",
    "\n",
    "    plt.scatter(*(agent_0_comm[np.arange(start_time,end_time)].T))\n",
    "    plt.scatter(*(agent_1_comm[np.arange(start_time,end_time)].T))\n",
    "    plt.scatter(*(agent_2_comm[np.arange(start_time,end_time)].T))\n",
    "    plt.scatter(*(agent_3_comm[np.arange(start_time,end_time)].T))\n",
    "\n",
    "\n",
    "    plt.subplot(2,2,(3,4))\n",
    "    intencity = (msg**2).mean(axis=2)\n",
    "    plt.plot(intencity)\n",
    "    plt.scatter([index]*4,intencity[index],c='black')\n",
    "\n",
    "\n",
    "\n",
    "# Create an interactive slider to choose which 2D array to display\n",
    "interact(plot_array, index=IntSlider(min=0, max=len(views)-1, step=1, value=0))\n",
    "plt.show()\n"
   ]
  },
  {
   "cell_type": "code",
   "execution_count": 33,
   "metadata": {},
   "outputs": [
    {
     "ename": "AttributeError",
     "evalue": "module 'numpy' has no attribute 'arangeindex'",
     "output_type": "error",
     "traceback": [
      "\u001b[0;31m---------------------------------------------------------------------------\u001b[0m",
      "\u001b[0;31mAttributeError\u001b[0m                            Traceback (most recent call last)",
      "Cell \u001b[0;32mIn[33], line 18\u001b[0m\n\u001b[1;32m     15\u001b[0m agent_3_comm \u001b[38;5;241m=\u001b[39m pca\u001b[38;5;241m.\u001b[39mtransform(msg[:,\u001b[38;5;241m3\u001b[39m])\n\u001b[1;32m     17\u001b[0m plt\u001b[38;5;241m.\u001b[39mscatter(\u001b[38;5;241m*\u001b[39m(agent_0_comm[np\u001b[38;5;241m.\u001b[39marange(start_time,end_time)]\u001b[38;5;241m.\u001b[39mT))\n\u001b[0;32m---> 18\u001b[0m plt\u001b[38;5;241m.\u001b[39mscatter(\u001b[38;5;241m*\u001b[39m(agent_1_comm[\u001b[43mnp\u001b[49m\u001b[38;5;241;43m.\u001b[39;49m\u001b[43marangeindex\u001b[49m(start_time,end_time)]\u001b[38;5;241m.\u001b[39mT))\n\u001b[1;32m     19\u001b[0m plt\u001b[38;5;241m.\u001b[39mscatter(\u001b[38;5;241m*\u001b[39m(agent_2_comm[np\u001b[38;5;241m.\u001b[39marange(start_time,end_time)]\u001b[38;5;241m.\u001b[39mT))\n\u001b[1;32m     20\u001b[0m plt\u001b[38;5;241m.\u001b[39mscatter(\u001b[38;5;241m*\u001b[39m(agent_3_comm[np\u001b[38;5;241m.\u001b[39marange(start_time,end_time)]\u001b[38;5;241m.\u001b[39mT))\n",
      "File \u001b[0;32m~/anaconda3/envs/test-rl/lib/python3.10/site-packages/numpy/__init__.py:414\u001b[0m, in \u001b[0;36m__getattr__\u001b[0;34m(attr)\u001b[0m\n\u001b[1;32m    411\u001b[0m     \u001b[38;5;28;01mimport\u001b[39;00m \u001b[38;5;21;01mnumpy\u001b[39;00m\u001b[38;5;21;01m.\u001b[39;00m\u001b[38;5;21;01mchar\u001b[39;00m \u001b[38;5;28;01mas\u001b[39;00m \u001b[38;5;21;01mchar\u001b[39;00m\n\u001b[1;32m    412\u001b[0m     \u001b[38;5;28;01mreturn\u001b[39;00m char\u001b[38;5;241m.\u001b[39mchararray\n\u001b[0;32m--> 414\u001b[0m \u001b[38;5;28;01mraise\u001b[39;00m \u001b[38;5;167;01mAttributeError\u001b[39;00m(\u001b[38;5;124m\"\u001b[39m\u001b[38;5;124mmodule \u001b[39m\u001b[38;5;132;01m{!r}\u001b[39;00m\u001b[38;5;124m has no attribute \u001b[39m\u001b[38;5;124m\"\u001b[39m\n\u001b[1;32m    415\u001b[0m                      \u001b[38;5;124m\"\u001b[39m\u001b[38;5;132;01m{!r}\u001b[39;00m\u001b[38;5;124m\"\u001b[39m\u001b[38;5;241m.\u001b[39mformat(\u001b[38;5;18m__name__\u001b[39m, attr))\n",
      "\u001b[0;31mAttributeError\u001b[0m: module 'numpy' has no attribute 'arangeindex'"
     ]
    },
    {
     "data": {
      "image/png": "[encoded data removed]",
      "text/plain": [
       "<Figure size 640x480 with 1 Axes>"
      ]
     },
     "metadata": {},
     "output_type": "display_data"
    }
   ],
   "source": [
    "pca = PCA(n_components=2)\n",
    "    \n",
    "pca.fit_transform(msg.reshape(-1,10))\n",
    "\n",
    "plt.xlim(-0.1,0.1)\n",
    "plt.ylim(-0.1,0.1)\n",
    "\n",
    "# Specify interest region\n",
    "start_time = 0\n",
    "end_time = 47\n",
    "\n",
    "agent_0_comm = pca.transform(msg[:,0])\n",
    "agent_1_comm = pca.transform(msg[:,1])\n",
    "agent_2_comm = pca.transform(msg[:,2])\n",
    "agent_3_comm = pca.transform(msg[:,3])\n",
    "\n",
    "plt.scatter(*(agent_0_comm[np.arange(start_time,end_time)].T))\n",
    "plt.scatter(*(agent_1_comm[np.arangeindex(start_time,end_time)].T))\n",
    "plt.scatter(*(agent_2_comm[np.arange(start_time,end_time)].T))\n",
    "plt.scatter(*(agent_3_comm[np.arange(start_time,end_time)].T))\n"
   ]
  }
 ],
 "metadata": {
  "kernelspec": {
   "display_name": "test-rl",
   "language": "python",
   "name": "python3"
  },
  "language_info": {
   "codemirror_mode": {
    "name": "ipython",
    "version": 3
   },
   "file_extension": ".py",
   "mimetype": "text/x-python",
   "name": "python",
   "nbconvert_exporter": "python",
   "pygments_lexer": "ipython3",
   "version": "3.10.14"
  }
 },
 "nbformat": 4,
 "nbformat_minor": 2
}
